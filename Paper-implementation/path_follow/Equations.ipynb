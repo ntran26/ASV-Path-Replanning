{
 "cells": [
  {
   "cell_type": "markdown",
   "metadata": {},
   "source": [
    "$ x_{new} = x_{current} + v \\times cos(\\theta) $\n",
    "\n",
    "$ y_{new} = y_{current} + v \\times sin(\\theta) $\n",
    "\n",
    "$ \\theta_{new} = \\theta_{current} \\pm turn rate $\n"
   ]
  },
  {
   "cell_type": "markdown",
   "metadata": {},
   "source": [
    "$ x_{current} = 50, y_{current} = 20, v = 1 m/s, \\theta = 90^o, turn rate = 5^o  $\n",
    "\n",
    "For go straight action\n",
    "\n",
    "$ x_{new} = 50 + 1 \\times cos(90^o) = 50 + 0 = 50  $\n",
    "\n",
    "$ y_{new} = 20 + 1 \\times sin(90^o) = 20 + 1 = 21  $\n",
    "\n",
    "For turn left action\n",
    "\n",
    "$ \\theta_{new} = 90 + 5 = 95^o $\n",
    "\n",
    "$ x_{new} = 50 + 1 \\times cos(95^o) = 49.91 $\n",
    "\n",
    "$ y_{new} = 20 + 1 \\times sin(95^o) = 21.99 $\n",
    "\n",
    "For turn right action\n",
    "\n",
    "$ \\theta_{new} = 90 - 5 = 85^o $\n",
    "\n",
    "$ x_{new} = 50 + 1 \\times cos(85^o) = 50.09 $\n",
    "\n",
    "$ y_{new} = 20 + 1 \\times sin(85^o) = 20.99 $\n",
    "\n"
   ]
  },
  {
   "cell_type": "markdown",
   "metadata": {},
   "source": []
  }
 ],
 "metadata": {
  "language_info": {
   "name": "python"
  }
 },
 "nbformat": 4,
 "nbformat_minor": 2
}
